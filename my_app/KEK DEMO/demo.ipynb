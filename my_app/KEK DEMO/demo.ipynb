{
 "cells": [
  {
   "cell_type": "code",
   "execution_count": null,
   "metadata": {
    "collapsed": true,
    "pycharm": {
     "name": "#%%\n"
    }
   },
   "outputs": [],
   "source": [
    "# Σε αυτό το πρώτο βήμα εισάγω τις βιβλιοθήκες που χρησιμοποιώ για να εξάγω πληροφορίες\n",
    "import numpy as np\n",
    "from matplotlib import pyplot as plt\n",
    "import seaborn as sns\n",
    "import pandas as pd"
   ]
  },
  {
   "cell_type": "code",
   "execution_count": null,
   "outputs": [],
   "source": [
    "file_a = \"delta.xlsx\"\n",
    "file_b = \"entersoft.csv\""
   ],
   "metadata": {
    "collapsed": false,
    "pycharm": {
     "name": "#%%\n"
    }
   }
  },
  {
   "cell_type": "code",
   "execution_count": null,
   "metadata": {
    "pycharm": {
     "name": "#%%\n"
    }
   },
   "outputs": [],
   "source": [
    "# Το αρχείο που έχω παραλάβει απο τον προμηθευτή είναι το delta.xlsx και το τοποθετώ στον ίδιο φάκελο με το αρχείο JupyterNotebook\n",
    "df_customer = pd.read_excel(file_a)"
   ]
  },
  {
   "cell_type": "code",
   "execution_count": null,
   "metadata": {
    "pycharm": {
     "name": "#%%\n"
    }
   },
   "outputs": [],
   "source": [
    "# Συνήθως τα αρχεία προς ανάλυση περιέχουν πολλές εγγραφές και είναι αδύνατο να τα μελετήσουμε απλώς κοιτώντας τα.\n",
    "# Όμως μπορούμε να δούμε τις πρώτες εγγραφές για να πάρουμε μια πρώτη εικόνα.\n",
    "df_customer.head()"
   ]
  },
  {
   "cell_type": "code",
   "execution_count": null,
   "metadata": {
    "pycharm": {
     "name": "#%%\n"
    }
   },
   "outputs": [],
   "source": [
    "# Τώρα που είδαμε τις πρώτες εγγραφές, ίσως να θέλουμε να δούμε το σχήμα του dataframe.\n",
    "df_customer.shape"
   ]
  },
  {
   "cell_type": "code",
   "execution_count": null,
   "metadata": {
    "pycharm": {
     "name": "#%%\n"
    }
   },
   "outputs": [],
   "source": [
    "# Το αρχείο από τη βάση δεδομένων μας, το έχουμε αποθηκεύσει στον ίδιο φάκελο με την ονομασία enteroft.csv\n",
    "entersoft = pd.read_csv(file_b)"
   ]
  },
  {
   "cell_type": "code",
   "execution_count": null,
   "metadata": {
    "pycharm": {
     "name": "#%%\n"
    }
   },
   "outputs": [],
   "source": [
    "# Θα δούμε τις πρώτες εγγραφές για να πάρουμε μια πρώτη εικόνα.\n",
    "entersoft.head()"
   ]
  },
  {
   "cell_type": "code",
   "execution_count": null,
   "metadata": {
    "pycharm": {
     "name": "#%%\n"
    }
   },
   "outputs": [],
   "source": [
    "entersoft.shape"
   ]
  },
  {
   "cell_type": "code",
   "execution_count": null,
   "outputs": [],
   "source": [
    "# Όλα τα είδη είναι στο 13% ΦΠΑ\n",
    "entersoft['RETAIL_NO_VAT'] = round(entersoft.RETAIL / 1.13, 2)\n",
    "entersoft.head()\n",
    "# Μπορούμε να δούμε το πλήθος των διαφορετικών κατηγοριών ΦΠΑ με την παρακάτω εντολή\n",
    "# entersoft.VAT.value_counts()"
   ],
   "metadata": {
    "collapsed": false,
    "pycharm": {
     "name": "#%%\n"
    }
   }
  },
  {
   "cell_type": "code",
   "execution_count": null,
   "outputs": [],
   "source": [
    "# Σε αυτό το σημείο θα συνενώσουμε τα δεδομένα για να πάρουμε μια ενιαία πληροφόρηση\n",
    "final_df = pd.merge(entersoft, df_customer, how='right', left_on='BARCODE', right_on=\"BARCODE\")"
   ],
   "metadata": {
    "collapsed": false,
    "pycharm": {
     "name": "#%%\n"
    }
   }
  },
  {
   "cell_type": "code",
   "execution_count": null,
   "outputs": [],
   "source": [
    "# Θα δούμε τις πρώτες εγγραφές για να δούμε το τελικό αποτέλεσμα\n",
    "final_df.head()"
   ],
   "metadata": {
    "collapsed": false,
    "pycharm": {
     "name": "#%%\n"
    }
   }
  },
  {
   "cell_type": "code",
   "execution_count": null,
   "outputs": [],
   "source": [
    "final_df.shape"
   ],
   "metadata": {
    "collapsed": false,
    "pycharm": {
     "name": "#%%\n"
    }
   }
  },
  {
   "cell_type": "code",
   "execution_count": null,
   "outputs": [],
   "source": [
    "# Αν όλοι οι κωδικοί είναι 124 και οι κωδικοί που δουλεύουμε είναι 81, τότε τι ποσοστό κωδικών δουλεύουμε?\n",
    "x = round(100 * (81/124), 2)\n",
    "x"
   ],
   "metadata": {
    "collapsed": false,
    "pycharm": {
     "name": "#%%\n"
    }
   }
  },
  {
   "cell_type": "code",
   "execution_count": null,
   "outputs": [],
   "source": [
    "# Ας προσεγγίσουμε το ίδιο ερώτημα με μια διαφορετική φόρμουλα\n",
    "round(100 - (final_df.RETAIL.isnull().sum() / final_df.shape[0] ) * 100, 2)"
   ],
   "metadata": {
    "collapsed": false,
    "pycharm": {
     "name": "#%%\n"
    }
   }
  },
  {
   "cell_type": "code",
   "execution_count": null,
   "outputs": [],
   "source": [
    "# Τα αποτελέσματα είναι διαφορετικά και εως εκ τούτου θα χρειαστεί να προχωρήσουμε σε περαιτέρω ελέγχους.\n",
    "# Το αρχείο περιέχει 124 γραμμές.\n",
    "# Έχουμε αποφασίσει ότι το κλειδί μας είναι η στήλη με το όνομα BARCODE.\n",
    "# Θέλουμε να δούμε αν υπάρχουν διπλές εγγραφές.\n",
    "df_customer.BARCODE.value_counts().max()"
   ],
   "metadata": {
    "collapsed": false,
    "pycharm": {
     "name": "#%%\n"
    }
   }
  },
  {
   "cell_type": "code",
   "execution_count": null,
   "outputs": [],
   "source": [
    "# Βρέθηκαν διπλές εγγραφές, προχωράμε σε διαγραφή των διπλό καταχωρήσεων\n",
    "# Περιμένουμε το σχήμα να αλλάξει\n",
    "df_customer.drop_duplicates(inplace=True)\n",
    "df_customer.shape"
   ],
   "metadata": {
    "collapsed": false,
    "pycharm": {
     "name": "#%%\n"
    }
   }
  },
  {
   "cell_type": "code",
   "execution_count": null,
   "outputs": [],
   "source": [
    "# Σε αυτό το σημείο θα συνενώσουμε ΞΑΝΑ τα δεδομένα για να πάρουμε μια ενιαία πληροφόρηση\n",
    "final_df = pd.merge(entersoft, df_customer, how='right', left_on='BARCODE', right_on=\"BARCODE\")"
   ],
   "metadata": {
    "collapsed": false,
    "pycharm": {
     "name": "#%%\n"
    }
   }
  },
  {
   "cell_type": "code",
   "execution_count": null,
   "outputs": [],
   "source": [
    "# Θα δούμε τις πρώτες εγγραφές για να δούμε το τελικό αποτέλεσμα\n",
    "final_df.head()"
   ],
   "metadata": {
    "collapsed": false,
    "pycharm": {
     "name": "#%%\n"
    }
   }
  },
  {
   "cell_type": "code",
   "execution_count": null,
   "outputs": [],
   "source": [
    "final_df.shape"
   ],
   "metadata": {
    "collapsed": false,
    "pycharm": {
     "name": "#%%\n"
    }
   }
  },
  {
   "cell_type": "code",
   "execution_count": null,
   "outputs": [],
   "source": [
    "# Αν όλοι οι κωδικοί είναι 123 και οι κωδικοί που δουλεύουμε είναι 81, τότε τι ποσοστό κωδικών δουλεύουμε?\n",
    "x = round(100 * (81/123), 2)\n",
    "x"
   ],
   "metadata": {
    "collapsed": false,
    "pycharm": {
     "name": "#%%\n"
    }
   }
  },
  {
   "cell_type": "code",
   "execution_count": null,
   "outputs": [],
   "source": [
    "# Ας προσεγγίσουμε το ίδιο ερώτημα με μια διαφορετική φόρμουλα\n",
    "round(100 - (final_df.RETAIL.isnull().sum() / final_df.shape[0] ) * 100, 2)"
   ],
   "metadata": {
    "collapsed": false,
    "pycharm": {
     "name": "#%%\n"
    }
   }
  },
  {
   "cell_type": "code",
   "execution_count": null,
   "metadata": {
    "pycharm": {
     "name": "#%%\n"
    }
   },
   "outputs": [],
   "source": [
    "# Το επόμενο βήμα είναι να διαγράψω τους κωδικούς που δε δουλέυω.\n",
    "# Αποθηκεύω το αποτέλεσμα σε ένα νέο DF\n",
    "final_df.dropna(inplace=True)"
   ]
  },
  {
   "cell_type": "code",
   "execution_count": null,
   "outputs": [],
   "source": [
    "#  Θα δούμε τις πρώτες εγγραφές για να δούμε το τελικό αποτέλεσμα\n",
    "final_df.head()"
   ],
   "metadata": {
    "collapsed": false,
    "pycharm": {
     "name": "#%%\n"
    }
   }
  },
  {
   "cell_type": "code",
   "execution_count": null,
   "outputs": [],
   "source": [
    "# Ας δούμε και το σχήμα. Περιμένουμε οι γραμμές να είναι σε πλήθος ίσο με τις γραμμές από τη βάση μας\n",
    "final_df.shape"
   ],
   "metadata": {
    "collapsed": false,
    "pycharm": {
     "name": "#%%\n"
    }
   }
  },
  {
   "cell_type": "code",
   "execution_count": null,
   "outputs": [],
   "source": [
    "# Ένας τρόπος για να ελέγξουμε αν δύο σχήματα έχουν το ίδιο μήκος είναι αυτός:\n",
    "final_df.shape[0] == entersoft.shape[0]\n",
    "# Αν το αποτέλεσμα είναι True τότε έχουν το ίδιο μήκος"
   ],
   "metadata": {
    "collapsed": false,
    "pycharm": {
     "name": "#%%\n"
    }
   }
  },
  {
   "cell_type": "code",
   "execution_count": null,
   "outputs": [],
   "source": [
    "# ΚΕΡΔΟΦΟΡΙΑ\n",
    "final_df['MARKUP'] = round((final_df.RETAIL_NO_VAT / final_df['ΤΙΜΗ'] - 1) * 100, 2)\n",
    "final_df.head()"
   ],
   "metadata": {
    "collapsed": false,
    "pycharm": {
     "name": "#%%\n"
    }
   }
  },
  {
   "cell_type": "code",
   "execution_count": null,
   "outputs": [],
   "source": [
    "# σπάμε τις τιμές σε Τεταρτημόρια και τις αποτυπώνουμε\n",
    "retail_price = final_df['RETAIL']\n",
    "quartiles = np.quantile(retail_price, [0, .25, .5, .75, 1])\n",
    "quartiles"
   ],
   "metadata": {
    "collapsed": false,
    "pycharm": {
     "name": "#%%\n"
    }
   }
  },
  {
   "cell_type": "code",
   "execution_count": null,
   "outputs": [],
   "source": [
    "# Σε κάθε τεταρτημόριο βρίσκουμε το πλήθος των εγγραφών\n",
    "count_quartiles = [len(final_df[final_df['RETAIL'] <= quartiles[1]]),\n",
    "                   len(final_df[(final_df['RETAIL'] > quartiles[1]) & (final_df['RETAIL'] <= quartiles[2])]),\n",
    "                   len(final_df[(final_df['RETAIL'] > quartiles[2]) & (final_df['RETAIL'] <= quartiles[3])]),\n",
    "                   len(final_df[(final_df['RETAIL'] > quartiles[3])])]\n",
    "count_quartiles"
   ],
   "metadata": {
    "collapsed": false,
    "pycharm": {
     "name": "#%%\n"
    }
   }
  },
  {
   "cell_type": "code",
   "execution_count": null,
   "outputs": [],
   "source": [
    "# Προσδιορίζω το ποσοστό που αντιστοιχεί σε κάθε τεταρτημόριο\n",
    "np_count_quartiles = np.asarray(count_quartiles)\n",
    "x = np.round((np_count_quartiles / sum(count_quartiles)) * 100, 2)\n",
    "x"
   ],
   "metadata": {
    "collapsed": false,
    "pycharm": {
     "name": "#%%\n"
    }
   }
  },
  {
   "cell_type": "code",
   "execution_count": null,
   "metadata": {
    "pycharm": {
     "name": "#%%\n"
    }
   },
   "outputs": [],
   "source": [
    "# Βρίσκω τη μέση τιμή\n",
    "round(final_df['RETAIL'].mean(0), 2)"
   ]
  },
  {
   "cell_type": "code",
   "execution_count": null,
   "metadata": {
    "pycharm": {
     "name": "#%%\n"
    }
   },
   "outputs": [],
   "source": [
    "# Βρίσκω την επικρατούσα τιμή\n",
    "final_df['RETAIL'].mode()\n",
    "# final_df['RETAIL'].value_counts()"
   ]
  },
  {
   "cell_type": "code",
   "execution_count": null,
   "metadata": {
    "pycharm": {
     "name": "#%%\n"
    }
   },
   "outputs": [],
   "source": [
    "# Βρίσκω τον διάμεσο\n",
    "final_df['RETAIL'].median()"
   ]
  },
  {
   "cell_type": "code",
   "execution_count": null,
   "metadata": {
    "pycharm": {
     "name": "#%%\n"
    }
   },
   "outputs": [],
   "source": [
    "plt.figure(figsize=[30,10])\n",
    "boxplot = sns.boxplot(x='RETAIL', data=final_df)\n",
    "boxplot = sns.stripplot(x=final_df['RETAIL'], marker=\"X\", alpha=1, color='red', order=['RETAIL'])\n",
    "plt.show()"
   ]
  },
  {
   "cell_type": "code",
   "execution_count": null,
   "metadata": {
    "pycharm": {
     "name": "#%%\n"
    }
   },
   "outputs": [],
   "source": [
    "plt.figure(figsize=[30,5])\n",
    "boxplot = sns.violinplot(x=final_df['RETAIL'])\n",
    "boxplot = sns.stripplot(x=final_df['RETAIL'], marker=\"X\", alpha=1, color='red', order=['RETAIL'])\n",
    "plt.show()"
   ]
  }
 ],
 "metadata": {
  "kernelspec": {
   "display_name": "Python 3",
   "language": "python",
   "name": "python3"
  },
  "language_info": {
   "codemirror_mode": {
    "name": "ipython",
    "version": 3
   },
   "file_extension": ".py",
   "mimetype": "text/x-python",
   "name": "python",
   "nbconvert_exporter": "python",
   "pygments_lexer": "ipython3",
   "version": "3.8.5"
  }
 },
 "nbformat": 4,
 "nbformat_minor": 1
}