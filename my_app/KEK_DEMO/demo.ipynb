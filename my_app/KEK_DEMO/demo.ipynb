{
 "cells": [
  {
   "cell_type": "code",
   "execution_count": 1,
   "metadata": {
    "collapsed": true,
    "pycharm": {
     "name": "#%%\n"
    }
   },
   "outputs": [],
   "source": [
    "# Σε αυτό το πρώτο βήμα εισάγω τις βιβλιοθήκες που χρησιμοποιώ για να εξάγω πληροφορίες\n",
    "import numpy as np\n",
    "from matplotlib import pyplot as plt\n",
    "import seaborn as sns\n",
    "import pandas as pd"
   ]
  },
  {
   "cell_type": "code",
   "execution_count": 2,
   "outputs": [],
   "source": [
    "file_a = \"delta.xlsx\"\n",
    "file_b = \"entersoft.csv\""
   ],
   "metadata": {
    "collapsed": false,
    "pycharm": {
     "name": "#%%\n"
    }
   }
  },
  {
   "cell_type": "code",
   "execution_count": 3,
   "metadata": {
    "pycharm": {
     "name": "#%%\n"
    }
   },
   "outputs": [],
   "source": [
    "# Το αρχείο που έχω παραλάβει απο τον προμηθευτή είναι το delta.xlsx και το τοποθετώ στον ίδιο φάκελο με το αρχείο JupyterNotebook\n",
    "df_customer = pd.read_excel(file_a)"
   ]
  },
  {
   "cell_type": "code",
   "execution_count": 4,
   "metadata": {
    "pycharm": {
     "name": "#%%\n"
    }
   },
   "outputs": [
    {
     "data": {
      "text/plain": "         BARCODE                                ΠΕΡΙΓΡΑΦΗ  ΤΙΜΗ\n0  5201037507752                ΔΕΛΤΑ ΡΟΦΗΜΑ ΑΜΥΓΔΑΛΟ 1ΛΤ  2.71\n1  5201037507738   ΔΕΛΤΑ ΡΟΦΗΜΑ ΑΜΥΓΔΑΛΟ ΧΩΡΙΣ ΖΑΧΑΡΗ 1ΛΤ  2.71\n2  5201037507745                  ΔΕΛΤΑ ΡΟΦΗΜΑ ΚΑΡΥΔΑ 1ΛΤ  2.71\n3  5201037507905  ΔΕΛΤΑ ΡΟΦΗΜΑ ΒΡΩΜΗ & 3 SUPER ΣΠΟΡΟΙ 1ΛΤ  2.71\n4  5201037508261     ΔΕΛΤΑ ΦΥΤ. ΡΟΦ. ΑΜΥΓΔΑΛΟ ΚΑΚΑΟ 500ML  1.74",
      "text/html": "<div>\n<style scoped>\n    .dataframe tbody tr th:only-of-type {\n        vertical-align: middle;\n    }\n\n    .dataframe tbody tr th {\n        vertical-align: top;\n    }\n\n    .dataframe thead th {\n        text-align: right;\n    }\n</style>\n<table border=\"1\" class=\"dataframe\">\n  <thead>\n    <tr style=\"text-align: right;\">\n      <th></th>\n      <th>BARCODE</th>\n      <th>ΠΕΡΙΓΡΑΦΗ</th>\n      <th>ΤΙΜΗ</th>\n    </tr>\n  </thead>\n  <tbody>\n    <tr>\n      <th>0</th>\n      <td>5201037507752</td>\n      <td>ΔΕΛΤΑ ΡΟΦΗΜΑ ΑΜΥΓΔΑΛΟ 1ΛΤ</td>\n      <td>2.71</td>\n    </tr>\n    <tr>\n      <th>1</th>\n      <td>5201037507738</td>\n      <td>ΔΕΛΤΑ ΡΟΦΗΜΑ ΑΜΥΓΔΑΛΟ ΧΩΡΙΣ ΖΑΧΑΡΗ 1ΛΤ</td>\n      <td>2.71</td>\n    </tr>\n    <tr>\n      <th>2</th>\n      <td>5201037507745</td>\n      <td>ΔΕΛΤΑ ΡΟΦΗΜΑ ΚΑΡΥΔΑ 1ΛΤ</td>\n      <td>2.71</td>\n    </tr>\n    <tr>\n      <th>3</th>\n      <td>5201037507905</td>\n      <td>ΔΕΛΤΑ ΡΟΦΗΜΑ ΒΡΩΜΗ &amp; 3 SUPER ΣΠΟΡΟΙ 1ΛΤ</td>\n      <td>2.71</td>\n    </tr>\n    <tr>\n      <th>4</th>\n      <td>5201037508261</td>\n      <td>ΔΕΛΤΑ ΦΥΤ. ΡΟΦ. ΑΜΥΓΔΑΛΟ ΚΑΚΑΟ 500ML</td>\n      <td>1.74</td>\n    </tr>\n  </tbody>\n</table>\n</div>"
     },
     "execution_count": 4,
     "metadata": {},
     "output_type": "execute_result"
    }
   ],
   "source": [
    "# Συνήθως τα αρχεία προς ανάλυση περιέχουν πολλές εγγραφές και είναι αδύνατο να τα μελετήσουμε απλώς κοιτώντας τα.\n",
    "# Όμως μπορούμε να δούμε τις πρώτες εγγραφές για να πάρουμε μια πρώτη εικόνα.\n",
    "df_customer.head()"
   ]
  },
  {
   "cell_type": "code",
   "execution_count": 5,
   "metadata": {
    "pycharm": {
     "name": "#%%\n"
    }
   },
   "outputs": [
    {
     "data": {
      "text/plain": "(124, 3)"
     },
     "execution_count": 5,
     "metadata": {},
     "output_type": "execute_result"
    }
   ],
   "source": [
    "# Τώρα που είδαμε τις πρώτες εγγραφές, ίσως να θέλουμε να δούμε το σχήμα του dataframe.\n",
    "df_customer.shape"
   ]
  },
  {
   "cell_type": "code",
   "execution_count": 6,
   "metadata": {
    "pycharm": {
     "name": "#%%\n"
    }
   },
   "outputs": [],
   "source": [
    "# Το αρχείο από τη βάση δεδομένων μας, το έχουμε αποθηκεύσει στον ίδιο φάκελο με την ονομασία enteroft.csv\n",
    "entersoft = pd.read_csv(file_b)"
   ]
  },
  {
   "cell_type": "code",
   "execution_count": 7,
   "metadata": {
    "pycharm": {
     "name": "#%%\n"
    }
   },
   "outputs": [
    {
     "data": {
      "text/plain": "         BARCODE  RETAIL  VAT\n0  5201037403283    2.99    2\n1  5201037403306    2.85    2\n2  5201037403368    3.40    2\n3  5201037403887    3.40    2\n4  5201037404068    3.30    2",
      "text/html": "<div>\n<style scoped>\n    .dataframe tbody tr th:only-of-type {\n        vertical-align: middle;\n    }\n\n    .dataframe tbody tr th {\n        vertical-align: top;\n    }\n\n    .dataframe thead th {\n        text-align: right;\n    }\n</style>\n<table border=\"1\" class=\"dataframe\">\n  <thead>\n    <tr style=\"text-align: right;\">\n      <th></th>\n      <th>BARCODE</th>\n      <th>RETAIL</th>\n      <th>VAT</th>\n    </tr>\n  </thead>\n  <tbody>\n    <tr>\n      <th>0</th>\n      <td>5201037403283</td>\n      <td>2.99</td>\n      <td>2</td>\n    </tr>\n    <tr>\n      <th>1</th>\n      <td>5201037403306</td>\n      <td>2.85</td>\n      <td>2</td>\n    </tr>\n    <tr>\n      <th>2</th>\n      <td>5201037403368</td>\n      <td>3.40</td>\n      <td>2</td>\n    </tr>\n    <tr>\n      <th>3</th>\n      <td>5201037403887</td>\n      <td>3.40</td>\n      <td>2</td>\n    </tr>\n    <tr>\n      <th>4</th>\n      <td>5201037404068</td>\n      <td>3.30</td>\n      <td>2</td>\n    </tr>\n  </tbody>\n</table>\n</div>"
     },
     "execution_count": 7,
     "metadata": {},
     "output_type": "execute_result"
    }
   ],
   "source": [
    "# Θα δούμε τις πρώτες εγγραφές για να πάρουμε μια πρώτη εικόνα.\n",
    "entersoft.head()"
   ]
  },
  {
   "cell_type": "code",
   "execution_count": 8,
   "metadata": {
    "pycharm": {
     "name": "#%%\n"
    }
   },
   "outputs": [
    {
     "data": {
      "text/plain": "(81, 3)"
     },
     "execution_count": 8,
     "metadata": {},
     "output_type": "execute_result"
    }
   ],
   "source": [
    "entersoft.shape"
   ]
  },
  {
   "cell_type": "code",
   "execution_count": 9,
   "outputs": [
    {
     "data": {
      "text/plain": "         BARCODE  RETAIL  VAT  RETAIL_NO_VAT\n0  5201037403283    2.99    2           2.65\n1  5201037403306    2.85    2           2.52\n2  5201037403368    3.40    2           3.01\n3  5201037403887    3.40    2           3.01\n4  5201037404068    3.30    2           2.92",
      "text/html": "<div>\n<style scoped>\n    .dataframe tbody tr th:only-of-type {\n        vertical-align: middle;\n    }\n\n    .dataframe tbody tr th {\n        vertical-align: top;\n    }\n\n    .dataframe thead th {\n        text-align: right;\n    }\n</style>\n<table border=\"1\" class=\"dataframe\">\n  <thead>\n    <tr style=\"text-align: right;\">\n      <th></th>\n      <th>BARCODE</th>\n      <th>RETAIL</th>\n      <th>VAT</th>\n      <th>RETAIL_NO_VAT</th>\n    </tr>\n  </thead>\n  <tbody>\n    <tr>\n      <th>0</th>\n      <td>5201037403283</td>\n      <td>2.99</td>\n      <td>2</td>\n      <td>2.65</td>\n    </tr>\n    <tr>\n      <th>1</th>\n      <td>5201037403306</td>\n      <td>2.85</td>\n      <td>2</td>\n      <td>2.52</td>\n    </tr>\n    <tr>\n      <th>2</th>\n      <td>5201037403368</td>\n      <td>3.40</td>\n      <td>2</td>\n      <td>3.01</td>\n    </tr>\n    <tr>\n      <th>3</th>\n      <td>5201037403887</td>\n      <td>3.40</td>\n      <td>2</td>\n      <td>3.01</td>\n    </tr>\n    <tr>\n      <th>4</th>\n      <td>5201037404068</td>\n      <td>3.30</td>\n      <td>2</td>\n      <td>2.92</td>\n    </tr>\n  </tbody>\n</table>\n</div>"
     },
     "execution_count": 9,
     "metadata": {},
     "output_type": "execute_result"
    }
   ],
   "source": [
    "# Όλα τα είδη είναι στο 13% ΦΠΑ\n",
    "entersoft['RETAIL_NO_VAT'] = round(entersoft.RETAIL / 1.13, 2)\n",
    "entersoft.head()\n",
    "# Μπορούμε να δούμε το πλήθος των διαφορετικών κατηγοριών ΦΠΑ με την παρακάτω εντολή\n",
    "# entersoft.VAT.value_counts()"
   ],
   "metadata": {
    "collapsed": false,
    "pycharm": {
     "name": "#%%\n"
    }
   }
  },
  {
   "cell_type": "code",
   "execution_count": 10,
   "outputs": [],
   "source": [
    "# Σε αυτό το σημείο θα συνενώσουμε τα δεδομένα για να πάρουμε μια ενιαία πληροφόρηση\n",
    "final_df = pd.merge(entersoft, df_customer, how='right', left_on='BARCODE', right_on=\"BARCODE\")"
   ],
   "metadata": {
    "collapsed": false,
    "pycharm": {
     "name": "#%%\n"
    }
   }
  },
  {
   "cell_type": "code",
   "execution_count": 11,
   "outputs": [
    {
     "data": {
      "text/plain": "         BARCODE  RETAIL  VAT  RETAIL_NO_VAT  \\\n0  5201037507752    3.80  2.0           3.36   \n1  5201037507738    3.80  2.0           3.36   \n2  5201037507745    3.80  2.0           3.36   \n3  5201037507905    3.35  2.0           2.96   \n4  5201037508261     NaN  NaN            NaN   \n\n                                 ΠΕΡΙΓΡΑΦΗ  ΤΙΜΗ  \n0                ΔΕΛΤΑ ΡΟΦΗΜΑ ΑΜΥΓΔΑΛΟ 1ΛΤ  2.71  \n1   ΔΕΛΤΑ ΡΟΦΗΜΑ ΑΜΥΓΔΑΛΟ ΧΩΡΙΣ ΖΑΧΑΡΗ 1ΛΤ  2.71  \n2                  ΔΕΛΤΑ ΡΟΦΗΜΑ ΚΑΡΥΔΑ 1ΛΤ  2.71  \n3  ΔΕΛΤΑ ΡΟΦΗΜΑ ΒΡΩΜΗ & 3 SUPER ΣΠΟΡΟΙ 1ΛΤ  2.71  \n4     ΔΕΛΤΑ ΦΥΤ. ΡΟΦ. ΑΜΥΓΔΑΛΟ ΚΑΚΑΟ 500ML  1.74  ",
      "text/html": "<div>\n<style scoped>\n    .dataframe tbody tr th:only-of-type {\n        vertical-align: middle;\n    }\n\n    .dataframe tbody tr th {\n        vertical-align: top;\n    }\n\n    .dataframe thead th {\n        text-align: right;\n    }\n</style>\n<table border=\"1\" class=\"dataframe\">\n  <thead>\n    <tr style=\"text-align: right;\">\n      <th></th>\n      <th>BARCODE</th>\n      <th>RETAIL</th>\n      <th>VAT</th>\n      <th>RETAIL_NO_VAT</th>\n      <th>ΠΕΡΙΓΡΑΦΗ</th>\n      <th>ΤΙΜΗ</th>\n    </tr>\n  </thead>\n  <tbody>\n    <tr>\n      <th>0</th>\n      <td>5201037507752</td>\n      <td>3.80</td>\n      <td>2.0</td>\n      <td>3.36</td>\n      <td>ΔΕΛΤΑ ΡΟΦΗΜΑ ΑΜΥΓΔΑΛΟ 1ΛΤ</td>\n      <td>2.71</td>\n    </tr>\n    <tr>\n      <th>1</th>\n      <td>5201037507738</td>\n      <td>3.80</td>\n      <td>2.0</td>\n      <td>3.36</td>\n      <td>ΔΕΛΤΑ ΡΟΦΗΜΑ ΑΜΥΓΔΑΛΟ ΧΩΡΙΣ ΖΑΧΑΡΗ 1ΛΤ</td>\n      <td>2.71</td>\n    </tr>\n    <tr>\n      <th>2</th>\n      <td>5201037507745</td>\n      <td>3.80</td>\n      <td>2.0</td>\n      <td>3.36</td>\n      <td>ΔΕΛΤΑ ΡΟΦΗΜΑ ΚΑΡΥΔΑ 1ΛΤ</td>\n      <td>2.71</td>\n    </tr>\n    <tr>\n      <th>3</th>\n      <td>5201037507905</td>\n      <td>3.35</td>\n      <td>2.0</td>\n      <td>2.96</td>\n      <td>ΔΕΛΤΑ ΡΟΦΗΜΑ ΒΡΩΜΗ &amp; 3 SUPER ΣΠΟΡΟΙ 1ΛΤ</td>\n      <td>2.71</td>\n    </tr>\n    <tr>\n      <th>4</th>\n      <td>5201037508261</td>\n      <td>NaN</td>\n      <td>NaN</td>\n      <td>NaN</td>\n      <td>ΔΕΛΤΑ ΦΥΤ. ΡΟΦ. ΑΜΥΓΔΑΛΟ ΚΑΚΑΟ 500ML</td>\n      <td>1.74</td>\n    </tr>\n  </tbody>\n</table>\n</div>"
     },
     "execution_count": 11,
     "metadata": {},
     "output_type": "execute_result"
    }
   ],
   "source": [
    "# Θα δούμε τις πρώτες εγγραφές για να δούμε το τελικό αποτέλεσμα\n",
    "final_df.head()"
   ],
   "metadata": {
    "collapsed": false,
    "pycharm": {
     "name": "#%%\n"
    }
   }
  },
  {
   "cell_type": "code",
   "execution_count": 12,
   "outputs": [
    {
     "data": {
      "text/plain": "(124, 6)"
     },
     "execution_count": 12,
     "metadata": {},
     "output_type": "execute_result"
    }
   ],
   "source": [
    "final_df.shape"
   ],
   "metadata": {
    "collapsed": false,
    "pycharm": {
     "name": "#%%\n"
    }
   }
  },
  {
   "cell_type": "code",
   "execution_count": 13,
   "outputs": [
    {
     "data": {
      "text/plain": "65.32"
     },
     "execution_count": 13,
     "metadata": {},
     "output_type": "execute_result"
    }
   ],
   "source": [
    "# Αν όλοι οι κωδικοί είναι 124 και οι κωδικοί που δουλεύουμε είναι 81, τότε τι ποσοστό κωδικών δουλεύουμε?\n",
    "x = round(100 * (81/124), 2)\n",
    "x"
   ],
   "metadata": {
    "collapsed": false,
    "pycharm": {
     "name": "#%%\n"
    }
   }
  },
  {
   "cell_type": "code",
   "execution_count": 14,
   "outputs": [
    {
     "data": {
      "text/plain": "66.13"
     },
     "execution_count": 14,
     "metadata": {},
     "output_type": "execute_result"
    }
   ],
   "source": [
    "# Ας προσεγγίσουμε το ίδιο ερώτημα με μια διαφορετική φόρμουλα\n",
    "round(100 - (final_df.RETAIL.isnull().sum() / final_df.shape[0] ) * 100, 2)"
   ],
   "metadata": {
    "collapsed": false,
    "pycharm": {
     "name": "#%%\n"
    }
   }
  },
  {
   "cell_type": "code",
   "execution_count": 15,
   "outputs": [
    {
     "data": {
      "text/plain": "2"
     },
     "execution_count": 15,
     "metadata": {},
     "output_type": "execute_result"
    }
   ],
   "source": [
    "# Τα αποτελέσματα είναι διαφορετικά και εως εκ τούτου θα χρειαστεί να προχωρήσουμε σε περαιτέρω ελέγχους.\n",
    "# Το αρχείο περιέχει 124 γραμμές.\n",
    "# Έχουμε αποφασίσει ότι το κλειδί μας είναι η στήλη με το όνομα BARCODE.\n",
    "# Θέλουμε να δούμε αν υπάρχουν διπλές εγγραφές.\n",
    "df_customer.BARCODE.value_counts().max()"
   ],
   "metadata": {
    "collapsed": false,
    "pycharm": {
     "name": "#%%\n"
    }
   }
  },
  {
   "cell_type": "code",
   "execution_count": 16,
   "outputs": [
    {
     "data": {
      "text/plain": "(123, 3)"
     },
     "execution_count": 16,
     "metadata": {},
     "output_type": "execute_result"
    }
   ],
   "source": [
    "# Βρέθηκαν διπλές εγγραφές, προχωράμε σε διαγραφή των διπλό καταχωρήσεων\n",
    "# Περιμένουμε το σχήμα να αλλάξει\n",
    "df_customer.drop_duplicates(inplace=True)\n",
    "df_customer.shape"
   ],
   "metadata": {
    "collapsed": false,
    "pycharm": {
     "name": "#%%\n"
    }
   }
  },
  {
   "cell_type": "code",
   "execution_count": 17,
   "outputs": [],
   "source": [
    "# Σε αυτό το σημείο θα συνενώσουμε ΞΑΝΑ τα δεδομένα για να πάρουμε μια ενιαία πληροφόρηση\n",
    "final_df = pd.merge(entersoft, df_customer, how='right', left_on='BARCODE', right_on=\"BARCODE\")"
   ],
   "metadata": {
    "collapsed": false,
    "pycharm": {
     "name": "#%%\n"
    }
   }
  },
  {
   "cell_type": "code",
   "execution_count": 18,
   "outputs": [
    {
     "data": {
      "text/plain": "         BARCODE  RETAIL  VAT  RETAIL_NO_VAT  \\\n0  5201037507752    3.80  2.0           3.36   \n1  5201037507738    3.80  2.0           3.36   \n2  5201037507745    3.80  2.0           3.36   \n3  5201037507905    3.35  2.0           2.96   \n4  5201037508261     NaN  NaN            NaN   \n\n                                 ΠΕΡΙΓΡΑΦΗ  ΤΙΜΗ  \n0                ΔΕΛΤΑ ΡΟΦΗΜΑ ΑΜΥΓΔΑΛΟ 1ΛΤ  2.71  \n1   ΔΕΛΤΑ ΡΟΦΗΜΑ ΑΜΥΓΔΑΛΟ ΧΩΡΙΣ ΖΑΧΑΡΗ 1ΛΤ  2.71  \n2                  ΔΕΛΤΑ ΡΟΦΗΜΑ ΚΑΡΥΔΑ 1ΛΤ  2.71  \n3  ΔΕΛΤΑ ΡΟΦΗΜΑ ΒΡΩΜΗ & 3 SUPER ΣΠΟΡΟΙ 1ΛΤ  2.71  \n4     ΔΕΛΤΑ ΦΥΤ. ΡΟΦ. ΑΜΥΓΔΑΛΟ ΚΑΚΑΟ 500ML  1.74  ",
      "text/html": "<div>\n<style scoped>\n    .dataframe tbody tr th:only-of-type {\n        vertical-align: middle;\n    }\n\n    .dataframe tbody tr th {\n        vertical-align: top;\n    }\n\n    .dataframe thead th {\n        text-align: right;\n    }\n</style>\n<table border=\"1\" class=\"dataframe\">\n  <thead>\n    <tr style=\"text-align: right;\">\n      <th></th>\n      <th>BARCODE</th>\n      <th>RETAIL</th>\n      <th>VAT</th>\n      <th>RETAIL_NO_VAT</th>\n      <th>ΠΕΡΙΓΡΑΦΗ</th>\n      <th>ΤΙΜΗ</th>\n    </tr>\n  </thead>\n  <tbody>\n    <tr>\n      <th>0</th>\n      <td>5201037507752</td>\n      <td>3.80</td>\n      <td>2.0</td>\n      <td>3.36</td>\n      <td>ΔΕΛΤΑ ΡΟΦΗΜΑ ΑΜΥΓΔΑΛΟ 1ΛΤ</td>\n      <td>2.71</td>\n    </tr>\n    <tr>\n      <th>1</th>\n      <td>5201037507738</td>\n      <td>3.80</td>\n      <td>2.0</td>\n      <td>3.36</td>\n      <td>ΔΕΛΤΑ ΡΟΦΗΜΑ ΑΜΥΓΔΑΛΟ ΧΩΡΙΣ ΖΑΧΑΡΗ 1ΛΤ</td>\n      <td>2.71</td>\n    </tr>\n    <tr>\n      <th>2</th>\n      <td>5201037507745</td>\n      <td>3.80</td>\n      <td>2.0</td>\n      <td>3.36</td>\n      <td>ΔΕΛΤΑ ΡΟΦΗΜΑ ΚΑΡΥΔΑ 1ΛΤ</td>\n      <td>2.71</td>\n    </tr>\n    <tr>\n      <th>3</th>\n      <td>5201037507905</td>\n      <td>3.35</td>\n      <td>2.0</td>\n      <td>2.96</td>\n      <td>ΔΕΛΤΑ ΡΟΦΗΜΑ ΒΡΩΜΗ &amp; 3 SUPER ΣΠΟΡΟΙ 1ΛΤ</td>\n      <td>2.71</td>\n    </tr>\n    <tr>\n      <th>4</th>\n      <td>5201037508261</td>\n      <td>NaN</td>\n      <td>NaN</td>\n      <td>NaN</td>\n      <td>ΔΕΛΤΑ ΦΥΤ. ΡΟΦ. ΑΜΥΓΔΑΛΟ ΚΑΚΑΟ 500ML</td>\n      <td>1.74</td>\n    </tr>\n  </tbody>\n</table>\n</div>"
     },
     "execution_count": 18,
     "metadata": {},
     "output_type": "execute_result"
    }
   ],
   "source": [
    "# Θα δούμε τις πρώτες εγγραφές για να δούμε το τελικό αποτέλεσμα\n",
    "final_df.head()"
   ],
   "metadata": {
    "collapsed": false,
    "pycharm": {
     "name": "#%%\n"
    }
   }
  },
  {
   "cell_type": "code",
   "execution_count": 19,
   "outputs": [
    {
     "data": {
      "text/plain": "(123, 6)"
     },
     "execution_count": 19,
     "metadata": {},
     "output_type": "execute_result"
    }
   ],
   "source": [
    "final_df.shape"
   ],
   "metadata": {
    "collapsed": false,
    "pycharm": {
     "name": "#%%\n"
    }
   }
  },
  {
   "cell_type": "code",
   "execution_count": 20,
   "outputs": [
    {
     "data": {
      "text/plain": "65.85"
     },
     "execution_count": 20,
     "metadata": {},
     "output_type": "execute_result"
    }
   ],
   "source": [
    "# Αν όλοι οι κωδικοί είναι 123 και οι κωδικοί που δουλεύουμε είναι 81, τότε τι ποσοστό κωδικών δουλεύουμε?\n",
    "x = round(100 * (81/123), 2)\n",
    "x"
   ],
   "metadata": {
    "collapsed": false,
    "pycharm": {
     "name": "#%%\n"
    }
   }
  },
  {
   "cell_type": "code",
   "execution_count": 21,
   "outputs": [
    {
     "data": {
      "text/plain": "65.85"
     },
     "execution_count": 21,
     "metadata": {},
     "output_type": "execute_result"
    }
   ],
   "source": [
    "# Ας προσεγγίσουμε το ίδιο ερώτημα με μια διαφορετική φόρμουλα\n",
    "round(100 - (final_df.RETAIL.isnull().sum() / final_df.shape[0] ) * 100, 2)"
   ],
   "metadata": {
    "collapsed": false,
    "pycharm": {
     "name": "#%%\n"
    }
   }
  },
  {
   "cell_type": "code",
   "execution_count": 22,
   "metadata": {
    "pycharm": {
     "name": "#%%\n"
    }
   },
   "outputs": [],
   "source": [
    "# Το επόμενο βήμα είναι να διαγράψω τους κωδικούς που δε δουλέυω.\n",
    "# Αποθηκεύω το αποτέλεσμα σε ένα νέο DF\n",
    "final_df.dropna(inplace=True)"
   ]
  },
  {
   "cell_type": "code",
   "execution_count": 23,
   "outputs": [
    {
     "data": {
      "text/plain": "         BARCODE  RETAIL  VAT  RETAIL_NO_VAT  \\\n0  5201037507752    3.80  2.0           3.36   \n1  5201037507738    3.80  2.0           3.36   \n2  5201037507745    3.80  2.0           3.36   \n3  5201037507905    3.35  2.0           2.96   \n5  5201037508278    1.98  2.0           1.75   \n\n                                 ΠΕΡΙΓΡΑΦΗ  ΤΙΜΗ  \n0                ΔΕΛΤΑ ΡΟΦΗΜΑ ΑΜΥΓΔΑΛΟ 1ΛΤ  2.71  \n1   ΔΕΛΤΑ ΡΟΦΗΜΑ ΑΜΥΓΔΑΛΟ ΧΩΡΙΣ ΖΑΧΑΡΗ 1ΛΤ  2.71  \n2                  ΔΕΛΤΑ ΡΟΦΗΜΑ ΚΑΡΥΔΑ 1ΛΤ  2.71  \n3  ΔΕΛΤΑ ΡΟΦΗΜΑ ΒΡΩΜΗ & 3 SUPER ΣΠΟΡΟΙ 1ΛΤ  2.71  \n5    ΔΕΛΤΑ ΦΥΤ. ΡΟΦ. ΦΟΥΝΤΟΥΚΙ ΚΑΚΑΟ 500ML  1.74  ",
      "text/html": "<div>\n<style scoped>\n    .dataframe tbody tr th:only-of-type {\n        vertical-align: middle;\n    }\n\n    .dataframe tbody tr th {\n        vertical-align: top;\n    }\n\n    .dataframe thead th {\n        text-align: right;\n    }\n</style>\n<table border=\"1\" class=\"dataframe\">\n  <thead>\n    <tr style=\"text-align: right;\">\n      <th></th>\n      <th>BARCODE</th>\n      <th>RETAIL</th>\n      <th>VAT</th>\n      <th>RETAIL_NO_VAT</th>\n      <th>ΠΕΡΙΓΡΑΦΗ</th>\n      <th>ΤΙΜΗ</th>\n    </tr>\n  </thead>\n  <tbody>\n    <tr>\n      <th>0</th>\n      <td>5201037507752</td>\n      <td>3.80</td>\n      <td>2.0</td>\n      <td>3.36</td>\n      <td>ΔΕΛΤΑ ΡΟΦΗΜΑ ΑΜΥΓΔΑΛΟ 1ΛΤ</td>\n      <td>2.71</td>\n    </tr>\n    <tr>\n      <th>1</th>\n      <td>5201037507738</td>\n      <td>3.80</td>\n      <td>2.0</td>\n      <td>3.36</td>\n      <td>ΔΕΛΤΑ ΡΟΦΗΜΑ ΑΜΥΓΔΑΛΟ ΧΩΡΙΣ ΖΑΧΑΡΗ 1ΛΤ</td>\n      <td>2.71</td>\n    </tr>\n    <tr>\n      <th>2</th>\n      <td>5201037507745</td>\n      <td>3.80</td>\n      <td>2.0</td>\n      <td>3.36</td>\n      <td>ΔΕΛΤΑ ΡΟΦΗΜΑ ΚΑΡΥΔΑ 1ΛΤ</td>\n      <td>2.71</td>\n    </tr>\n    <tr>\n      <th>3</th>\n      <td>5201037507905</td>\n      <td>3.35</td>\n      <td>2.0</td>\n      <td>2.96</td>\n      <td>ΔΕΛΤΑ ΡΟΦΗΜΑ ΒΡΩΜΗ &amp; 3 SUPER ΣΠΟΡΟΙ 1ΛΤ</td>\n      <td>2.71</td>\n    </tr>\n    <tr>\n      <th>5</th>\n      <td>5201037508278</td>\n      <td>1.98</td>\n      <td>2.0</td>\n      <td>1.75</td>\n      <td>ΔΕΛΤΑ ΦΥΤ. ΡΟΦ. ΦΟΥΝΤΟΥΚΙ ΚΑΚΑΟ 500ML</td>\n      <td>1.74</td>\n    </tr>\n  </tbody>\n</table>\n</div>"
     },
     "execution_count": 23,
     "metadata": {},
     "output_type": "execute_result"
    }
   ],
   "source": [
    "#  Θα δούμε τις πρώτες εγγραφές για να δούμε το τελικό αποτέλεσμα\n",
    "final_df.head()"
   ],
   "metadata": {
    "collapsed": false,
    "pycharm": {
     "name": "#%%\n"
    }
   }
  },
  {
   "cell_type": "code",
   "execution_count": 24,
   "outputs": [
    {
     "data": {
      "text/plain": "(81, 6)"
     },
     "execution_count": 24,
     "metadata": {},
     "output_type": "execute_result"
    }
   ],
   "source": [
    "# Ας δούμε και το σχήμα. Περιμένουμε οι γραμμές να είναι σε πλήθος ίσο με τις γραμμές από τη βάση μας\n",
    "final_df.shape"
   ],
   "metadata": {
    "collapsed": false,
    "pycharm": {
     "name": "#%%\n"
    }
   }
  },
  {
   "cell_type": "code",
   "execution_count": 25,
   "outputs": [
    {
     "data": {
      "text/plain": "True"
     },
     "execution_count": 25,
     "metadata": {},
     "output_type": "execute_result"
    }
   ],
   "source": [
    "# Ένας τρόπος για να ελέγξουμε αν δύο σχήματα έχουν το ίδιο μήκος είναι αυτός:\n",
    "final_df.shape[0] == entersoft.shape[0]\n",
    "# Αν το αποτέλεσμα είναι True τότε έχουν το ίδιο μήκος"
   ],
   "metadata": {
    "collapsed": false,
    "pycharm": {
     "name": "#%%\n"
    }
   }
  },
  {
   "cell_type": "code",
   "execution_count": 26,
   "outputs": [
    {
     "data": {
      "text/plain": "         BARCODE  RETAIL  VAT  RETAIL_NO_VAT  \\\n0  5201037507752    3.80  2.0           3.36   \n1  5201037507738    3.80  2.0           3.36   \n2  5201037507745    3.80  2.0           3.36   \n3  5201037507905    3.35  2.0           2.96   \n5  5201037508278    1.98  2.0           1.75   \n\n                                 ΠΕΡΙΓΡΑΦΗ  ΤΙΜΗ  MARKUP  \n0                ΔΕΛΤΑ ΡΟΦΗΜΑ ΑΜΥΓΔΑΛΟ 1ΛΤ  2.71   23.99  \n1   ΔΕΛΤΑ ΡΟΦΗΜΑ ΑΜΥΓΔΑΛΟ ΧΩΡΙΣ ΖΑΧΑΡΗ 1ΛΤ  2.71   23.99  \n2                  ΔΕΛΤΑ ΡΟΦΗΜΑ ΚΑΡΥΔΑ 1ΛΤ  2.71   23.99  \n3  ΔΕΛΤΑ ΡΟΦΗΜΑ ΒΡΩΜΗ & 3 SUPER ΣΠΟΡΟΙ 1ΛΤ  2.71    9.23  \n5    ΔΕΛΤΑ ΦΥΤ. ΡΟΦ. ΦΟΥΝΤΟΥΚΙ ΚΑΚΑΟ 500ML  1.74    0.57  ",
      "text/html": "<div>\n<style scoped>\n    .dataframe tbody tr th:only-of-type {\n        vertical-align: middle;\n    }\n\n    .dataframe tbody tr th {\n        vertical-align: top;\n    }\n\n    .dataframe thead th {\n        text-align: right;\n    }\n</style>\n<table border=\"1\" class=\"dataframe\">\n  <thead>\n    <tr style=\"text-align: right;\">\n      <th></th>\n      <th>BARCODE</th>\n      <th>RETAIL</th>\n      <th>VAT</th>\n      <th>RETAIL_NO_VAT</th>\n      <th>ΠΕΡΙΓΡΑΦΗ</th>\n      <th>ΤΙΜΗ</th>\n      <th>MARKUP</th>\n    </tr>\n  </thead>\n  <tbody>\n    <tr>\n      <th>0</th>\n      <td>5201037507752</td>\n      <td>3.80</td>\n      <td>2.0</td>\n      <td>3.36</td>\n      <td>ΔΕΛΤΑ ΡΟΦΗΜΑ ΑΜΥΓΔΑΛΟ 1ΛΤ</td>\n      <td>2.71</td>\n      <td>23.99</td>\n    </tr>\n    <tr>\n      <th>1</th>\n      <td>5201037507738</td>\n      <td>3.80</td>\n      <td>2.0</td>\n      <td>3.36</td>\n      <td>ΔΕΛΤΑ ΡΟΦΗΜΑ ΑΜΥΓΔΑΛΟ ΧΩΡΙΣ ΖΑΧΑΡΗ 1ΛΤ</td>\n      <td>2.71</td>\n      <td>23.99</td>\n    </tr>\n    <tr>\n      <th>2</th>\n      <td>5201037507745</td>\n      <td>3.80</td>\n      <td>2.0</td>\n      <td>3.36</td>\n      <td>ΔΕΛΤΑ ΡΟΦΗΜΑ ΚΑΡΥΔΑ 1ΛΤ</td>\n      <td>2.71</td>\n      <td>23.99</td>\n    </tr>\n    <tr>\n      <th>3</th>\n      <td>5201037507905</td>\n      <td>3.35</td>\n      <td>2.0</td>\n      <td>2.96</td>\n      <td>ΔΕΛΤΑ ΡΟΦΗΜΑ ΒΡΩΜΗ &amp; 3 SUPER ΣΠΟΡΟΙ 1ΛΤ</td>\n      <td>2.71</td>\n      <td>9.23</td>\n    </tr>\n    <tr>\n      <th>5</th>\n      <td>5201037508278</td>\n      <td>1.98</td>\n      <td>2.0</td>\n      <td>1.75</td>\n      <td>ΔΕΛΤΑ ΦΥΤ. ΡΟΦ. ΦΟΥΝΤΟΥΚΙ ΚΑΚΑΟ 500ML</td>\n      <td>1.74</td>\n      <td>0.57</td>\n    </tr>\n  </tbody>\n</table>\n</div>"
     },
     "execution_count": 26,
     "metadata": {},
     "output_type": "execute_result"
    }
   ],
   "source": [
    "# ΚΕΡΔΟΦΟΡΙΑ\n",
    "final_df['MARKUP'] = round((final_df.RETAIL_NO_VAT / final_df['ΤΙΜΗ'] - 1) * 100, 2)\n",
    "final_df.head()"
   ],
   "metadata": {
    "collapsed": false,
    "pycharm": {
     "name": "#%%\n"
    }
   }
  },
  {
   "cell_type": "code",
   "execution_count": 27,
   "outputs": [
    {
     "data": {
      "text/plain": "array([1.1 , 1.85, 2.75, 3.4 , 7.85])"
     },
     "execution_count": 27,
     "metadata": {},
     "output_type": "execute_result"
    }
   ],
   "source": [
    "# σπάμε τις τιμές σε Τεταρτημόρια και τις αποτυπώνουμε\n",
    "retail_price = final_df['RETAIL']\n",
    "quartiles = np.quantile(retail_price, [0, .25, .5, .75, 1])\n",
    "quartiles"
   ],
   "metadata": {
    "collapsed": false,
    "pycharm": {
     "name": "#%%\n"
    }
   }
  },
  {
   "cell_type": "code",
   "execution_count": 28,
   "outputs": [
    {
     "data": {
      "text/plain": "[18, 20, 19, 24]"
     },
     "execution_count": 28,
     "metadata": {},
     "output_type": "execute_result"
    }
   ],
   "source": [
    "# Σε κάθε τεταρτημόριο βρίσκουμε το πλήθος των εγγραφών\n",
    "count_quartiles = [len(final_df[final_df['RETAIL'] < quartiles[1]]),\n",
    "                   len(final_df[(final_df['RETAIL'] >= quartiles[1]) & (final_df['RETAIL'] < quartiles[2])]),\n",
    "                   len(final_df[(final_df['RETAIL'] >= quartiles[2]) & (final_df['RETAIL'] < quartiles[3])]),\n",
    "                   len(final_df[(final_df['RETAIL'] >= quartiles[3])])]\n",
    "count_quartiles"
   ],
   "metadata": {
    "collapsed": false,
    "pycharm": {
     "name": "#%%\n"
    }
   }
  },
  {
   "cell_type": "code",
   "execution_count": 29,
   "outputs": [
    {
     "data": {
      "text/plain": "array([22.22, 24.69, 23.46, 29.63])"
     },
     "execution_count": 29,
     "metadata": {},
     "output_type": "execute_result"
    }
   ],
   "source": [
    "# Προσδιορίζω το ποσοστό που αντιστοιχεί σε κάθε τεταρτημόριο\n",
    "np_count_quartiles = np.asarray(count_quartiles)\n",
    "x = np.round((np_count_quartiles / sum(count_quartiles)) * 100, 2)\n",
    "x"
   ],
   "metadata": {
    "collapsed": false,
    "pycharm": {
     "name": "#%%\n"
    }
   }
  },
  {
   "cell_type": "code",
   "execution_count": 30,
   "metadata": {
    "pycharm": {
     "name": "#%%\n"
    }
   },
   "outputs": [
    {
     "data": {
      "text/plain": "2.85"
     },
     "execution_count": 30,
     "metadata": {},
     "output_type": "execute_result"
    }
   ],
   "source": [
    "# Βρίσκω τη μέση τιμή\n",
    "round(final_df['RETAIL'].mean(0), 2)"
   ]
  },
  {
   "cell_type": "code",
   "execution_count": 31,
   "metadata": {
    "pycharm": {
     "name": "#%%\n"
    }
   },
   "outputs": [
    {
     "data": {
      "text/plain": "0    1.55\n1    2.75\n2    3.80\n3    3.95\ndtype: float64"
     },
     "execution_count": 31,
     "metadata": {},
     "output_type": "execute_result"
    }
   ],
   "source": [
    "# Βρίσκω την επικρατούσα τιμή\n",
    "final_df['RETAIL'].mode()\n",
    "# final_df['RETAIL'].value_counts()"
   ]
  },
  {
   "cell_type": "code",
   "execution_count": 32,
   "metadata": {
    "pycharm": {
     "name": "#%%\n"
    }
   },
   "outputs": [
    {
     "data": {
      "text/plain": "2.75"
     },
     "execution_count": 32,
     "metadata": {},
     "output_type": "execute_result"
    }
   ],
   "source": [
    "# Βρίσκω τον διάμεσο\n",
    "final_df['RETAIL'].median()"
   ]
  },
  {
   "cell_type": "code",
   "execution_count": 33,
   "metadata": {
    "pycharm": {
     "name": "#%%\n"
    }
   },
   "outputs": [
    {
     "data": {
      "text/plain": "<Figure size 2160x720 with 1 Axes>",
      "image/png": "[encoded data removed]"
     },
     "metadata": {},
     "output_type": "display_data"
    }
   ],
   "source": [
    "plt.figure(figsize=[30,10])\n",
    "boxplot = sns.boxplot(x='RETAIL', data=final_df)\n",
    "boxplot = sns.stripplot(x=final_df['RETAIL'], marker=\"X\", alpha=1, color='red', order=['RETAIL'])\n",
    "plt.show()"
   ]
  },
  {
   "cell_type": "code",
   "execution_count": 34,
   "metadata": {
    "pycharm": {
     "name": "#%%\n"
    }
   },
   "outputs": [
    {
     "data": {
      "text/plain": "<Figure size 2160x360 with 1 Axes>",
      "image/png": "[encoded data removed]"
     },
     "metadata": {},
     "output_type": "display_data"
    }
   ],
   "source": [
    "plt.figure(figsize=[30,5])\n",
    "boxplot = sns.violinplot(x=final_df['RETAIL'])\n",
    "boxplot = sns.stripplot(x=final_df['RETAIL'], marker=\"X\", alpha=1, color='red', order=['RETAIL'])\n",
    "plt.show()"
   ]
  }
 ],
 "metadata": {
  "kernelspec": {
   "display_name": "Python 3",
   "language": "python",
   "name": "python3"
  },
  "language_info": {
   "codemirror_mode": {
    "name": "ipython",
    "version": 3
   },
   "file_extension": ".py",
   "mimetype": "text/x-python",
   "name": "python",
   "nbconvert_exporter": "python",
   "pygments_lexer": "ipython3",
   "version": "3.8.5"
  }
 },
 "nbformat": 4,
 "nbformat_minor": 1
}